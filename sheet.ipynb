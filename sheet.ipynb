{
 "cells": [
  {
   "cell_type": "code",
   "execution_count": 1,
   "metadata": {},
   "outputs": [],
   "source": [
    "# pip install gspread"
   ]
  },
  {
   "cell_type": "code",
   "execution_count": 2,
   "metadata": {},
   "outputs": [],
   "source": [
    "import gspread"
   ]
  },
  {
   "cell_type": "code",
   "execution_count": 3,
   "metadata": {},
   "outputs": [],
   "source": [
    "gc = gspread.service_account(filename='service_account.json')"
   ]
  },
  {
   "cell_type": "code",
   "execution_count": 4,
   "metadata": {},
   "outputs": [],
   "source": [
    "sh = gc.open('appointment')"
   ]
  },
  {
   "cell_type": "code",
   "execution_count": 4,
   "metadata": {},
   "outputs": [
    {
     "name": "stdout",
     "output_type": "stream",
     "text": [
      "[<Worksheet 'booking' id:0>, <Worksheet 'data' id:674247741>, <Worksheet 'testing' id:155406881>]\n",
      "<Worksheet 'booking' id:0>\n"
     ]
    }
   ],
   "source": [
    "worksheet = sh.worksheet('booking')\n",
    "print(sh.worksheets())\n",
    "print(worksheet)"
   ]
  },
  {
   "cell_type": "code",
   "execution_count": 9,
   "metadata": {},
   "outputs": [],
   "source": [
    "#to add new sheet\n",
    "# sh.add_worksheet('testing',100,20)"
   ]
  },
  {
   "cell_type": "code",
   "execution_count": null,
   "metadata": {},
   "outputs": [],
   "source": [
    "worksheet.get_all_records()"
   ]
  },
  {
   "cell_type": "code",
   "execution_count": 17,
   "metadata": {},
   "outputs": [
    {
     "name": "stdout",
     "output_type": "stream",
     "text": [
      "2 1\n"
     ]
    }
   ],
   "source": [
    "#find keyword from selected sheet\n",
    "record = worksheet.find('obaid')\n",
    "print(record.row,record.col)"
   ]
  },
  {
   "cell_type": "code",
   "execution_count": 21,
   "metadata": {},
   "outputs": [
    {
     "data": {
      "text/plain": [
       "'muneer'"
      ]
     },
     "execution_count": 21,
     "metadata": {},
     "output_type": "execute_result"
    }
   ],
   "source": [
    "#obtain value\n",
    "worksheet.cell(record.row,record.col+1).value"
   ]
  },
  {
   "cell_type": "code",
   "execution_count": 28,
   "metadata": {},
   "outputs": [
    {
     "name": "stdout",
     "output_type": "stream",
     "text": [
      "['lastname', 'muneer', 'qasim', 'anwar', 'abdul razzaq', 'mujeeb']\n",
      "6\n"
     ]
    }
   ],
   "source": [
    "n = worksheet.col_values(2)\n",
    "print(n)\n",
    "print(len(n))"
   ]
  },
  {
   "cell_type": "code",
   "execution_count": 38,
   "metadata": {},
   "outputs": [
    {
     "data": {
      "text/plain": [
       "{'spreadsheetId': '1q0A_KQqKluPeiqXwracp-ySnjPDgjckMwg7gAeJTpgM',\n",
       " 'tableRange': 'Sheet1!A1:B12',\n",
       " 'updates': {'spreadsheetId': '1q0A_KQqKluPeiqXwracp-ySnjPDgjckMwg7gAeJTpgM',\n",
       "  'updatedRange': 'Sheet1!A13:B13',\n",
       "  'updatedRows': 1,\n",
       "  'updatedColumns': 2,\n",
       "  'updatedCells': 2}}"
      ]
     },
     "execution_count": 38,
     "metadata": {},
     "output_type": "execute_result"
    }
   ],
   "source": [
    "# add new item\n",
    "name = \"umair\"\n",
    "lname = \"muneer\"\n",
    "# worksheet.update_cell(len(n)+1, 1, name)\n",
    "# worksheet.update_cell(len(n)+1, 2, lname)\n",
    "worksheet.append_row([name,lname])"
   ]
  },
  {
   "cell_type": "code",
   "execution_count": 45,
   "metadata": {},
   "outputs": [
    {
     "data": {
      "text/plain": [
       "{'spreadsheetId': '1q0A_KQqKluPeiqXwracp-ySnjPDgjckMwg7gAeJTpgM',\n",
       " 'tableRange': 'Sheet1!A1:B12',\n",
       " 'updates': {'spreadsheetId': '1q0A_KQqKluPeiqXwracp-ySnjPDgjckMwg7gAeJTpgM',\n",
       "  'updatedRange': 'Sheet1!A13:B14',\n",
       "  'updatedRows': 2,\n",
       "  'updatedColumns': 2,\n",
       "  'updatedCells': 4}}"
      ]
     },
     "execution_count": 45,
     "metadata": {},
     "output_type": "execute_result"
    }
   ],
   "source": [
    "# bulk update\n",
    "names = ['lala', 'kala']\n",
    "lanmes = ['lalo', 'kalo']\n",
    "cell_list_names = worksheet.range(\"A8:A9\")\n",
    "cell_list_lnames = worksheet.range(\"B8:B9\")\n",
    "\n",
    "# for i, name in enumerate(names):\n",
    "#     cell_list_names[i].value = name\n",
    "#     cell_list_lnames[i].value = lanmes[i]\n",
    "# worksheet.update_cells(cell_list_names)\n",
    "# worksheet.update_cells(cell_list_lnames)\n",
    "\n",
    "worksheet.append_rows([[\"baba\", \"ganderi\"], [\"kaka\", \"kaka\"]])"
   ]
  },
  {
   "cell_type": "code",
   "execution_count": 44,
   "metadata": {},
   "outputs": [
    {
     "name": "stdout",
     "output_type": "stream",
     "text": [
      "3\n"
     ]
    },
    {
     "data": {
      "text/plain": [
       "{'spreadsheetId': '1q0A_KQqKluPeiqXwracp-ySnjPDgjckMwg7gAeJTpgM',\n",
       " 'updatedRange': 'Sheet1!A3',\n",
       " 'updatedRows': 1,\n",
       " 'updatedColumns': 1,\n",
       " 'updatedCells': 1}"
      ]
     },
     "execution_count": 44,
     "metadata": {},
     "output_type": "execute_result"
    }
   ],
   "source": [
    "# find and update\n",
    "x = worksheet.find('hussain')\n",
    "print(x.row)\n",
    "worksheet.update_cell(x.row,x.col,'hussain lala')"
   ]
  },
  {
   "cell_type": "code",
   "execution_count": 43,
   "metadata": {},
   "outputs": [
    {
     "name": "stdout",
     "output_type": "stream",
     "text": [
      "11\n"
     ]
    }
   ],
   "source": [
    "# find and dlt\n",
    "x = worksheet.find('umair')\n",
    "print(x.row)\n",
    "worksheet.delete_rows(x.row)"
   ]
  },
  {
   "attachments": {},
   "cell_type": "markdown",
   "metadata": {},
   "source": [
    "## CRUD by id"
   ]
  },
  {
   "cell_type": "code",
   "execution_count": 5,
   "metadata": {},
   "outputs": [
    {
     "data": {
      "text/plain": [
       "<Worksheet 'data' id:674247741>"
      ]
     },
     "execution_count": 5,
     "metadata": {},
     "output_type": "execute_result"
    }
   ],
   "source": [
    "data_work = sh.worksheet('data')\n",
    "data_work"
   ]
  },
  {
   "cell_type": "code",
   "execution_count": 8,
   "metadata": {},
   "outputs": [
    {
     "data": {
      "text/plain": [
       "['id', 'name', 'email', 'disease', 'date', 'time']"
      ]
     },
     "execution_count": 8,
     "metadata": {},
     "output_type": "execute_result"
    }
   ],
   "source": [
    "headings = data_work.row_values(1)\n",
    "headings"
   ]
  },
  {
   "cell_type": "code",
   "execution_count": 14,
   "metadata": {},
   "outputs": [],
   "source": [
    "# update data\n",
    "def append_row(id, name, email):\n",
    "    data_work.append_row(\n",
    "        [id, name, email])\n",
    "\n",
    "append_row('123456', 'obaid', 'obaidmuneer55@gmail.com')"
   ]
  },
  {
   "cell_type": "code",
   "execution_count": 16,
   "metadata": {},
   "outputs": [
    {
     "name": "stdout",
     "output_type": "stream",
     "text": [
      "data updated\n"
     ]
    }
   ],
   "source": [
    "# update data\n",
    "def add_data(id, column=None, value=None):\n",
    "    record = data_work.find(id)\n",
    "    if record:\n",
    "        headings = data_work.row_values(1)\n",
    "        for i, head in enumerate(headings):\n",
    "            if head == column:\n",
    "                data_work.update_cell(record.row, i+1, value)\n",
    "        print('data updated')\n",
    "    else:\n",
    "        print('id not found')\n",
    "\n",
    "\n",
    "add_data('123456', 'name', 'umair')\n"
   ]
  },
  {
   "cell_type": "code",
   "execution_count": 17,
   "metadata": {},
   "outputs": [
    {
     "data": {
      "text/plain": [
       "['123456', 'umair', 'obaidmuneer55@gmail.com']"
      ]
     },
     "execution_count": 17,
     "metadata": {},
     "output_type": "execute_result"
    }
   ],
   "source": [
    "# read data\n",
    "def add_data(id):\n",
    "    record = data_work.find(id)\n",
    "    return data_work.row_values(record.row)\n",
    "\n",
    "add_data('123456')\n"
   ]
  },
  {
   "cell_type": "code",
   "execution_count": 18,
   "metadata": {},
   "outputs": [
    {
     "data": {
      "text/plain": [
       "{'spreadsheetId': '1q0A_KQqKluPeiqXwracp-ySnjPDgjckMwg7gAeJTpgM',\n",
       " 'replies': [{}]}"
      ]
     },
     "execution_count": 18,
     "metadata": {},
     "output_type": "execute_result"
    }
   ],
   "source": [
    "# read data\n",
    "def add_data(id):\n",
    "    record = data_work.find(id)\n",
    "    return data_work.delete_rows(record.row)\n",
    "\n",
    "add_data('123456')\n"
   ]
  }
 ],
 "metadata": {
  "kernelspec": {
   "display_name": "Python 3",
   "language": "python",
   "name": "python3"
  },
  "language_info": {
   "codemirror_mode": {
    "name": "ipython",
    "version": 3
   },
   "file_extension": ".py",
   "mimetype": "text/x-python",
   "name": "python",
   "nbconvert_exporter": "python",
   "pygments_lexer": "ipython3",
   "version": "3.11.3"
  },
  "orig_nbformat": 4,
  "vscode": {
   "interpreter": {
    "hash": "e24be50fc5d34fa7feb3809ece269af1ed5229ce0bcfe582eb2a21849eda9341"
   }
  }
 },
 "nbformat": 4,
 "nbformat_minor": 2
}
